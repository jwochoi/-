{
  "nbformat": 4,
  "nbformat_minor": 0,
  "metadata": {
    "colab": {
      "provenance": []
    },
    "kernelspec": {
      "name": "python3",
      "display_name": "Python 3"
    },
    "language_info": {
      "name": "python"
    }
  },
  "cells": [
    {
      "cell_type": "code",
      "execution_count": null,
      "metadata": {
        "colab": {
          "base_uri": "https://localhost:8080/"
        },
        "id": "0UDh4-UDi0zR",
        "outputId": "e7269a77-2486-4014-b514-169a6d410eed"
      },
      "outputs": [
        {
          "output_type": "stream",
          "name": "stdout",
          "text": [
            "이름: 홍길동\n",
            "나이: 20\n"
          ]
        }
      ],
      "source": [
        "name = \"홍길동\"\n",
        "age = 20\n",
        "\n",
        "print(\"이름:\", name)\n",
        "print(\"나이:\", age)\n"
      ]
    }
  ]
}
